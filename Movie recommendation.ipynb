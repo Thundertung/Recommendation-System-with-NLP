{
 "cells": [
  {
   "cell_type": "code",
   "execution_count": 1,
   "metadata": {},
   "outputs": [],
   "source": [
    "import pandas as pd # library for dataframe\n",
    "import numpy as np\n",
    "#import matplotlib.pyplot as plt"
   ]
  },
  {
   "cell_type": "code",
   "execution_count": 2,
   "metadata": {},
   "outputs": [],
   "source": [
    "\n",
    "#read data into the notebook using pd.read_csv\n",
    "\n",
    "df = pd.read_csv(\"Hydra-Movie-Scrape.csv\")"
   ]
  },
  {
   "cell_type": "code",
   "execution_count": 3,
   "metadata": {},
   "outputs": [
    {
     "data": {
      "text/html": [
       "<div>\n",
       "<style scoped>\n",
       "    .dataframe tbody tr th:only-of-type {\n",
       "        vertical-align: middle;\n",
       "    }\n",
       "\n",
       "    .dataframe tbody tr th {\n",
       "        vertical-align: top;\n",
       "    }\n",
       "\n",
       "    .dataframe thead th {\n",
       "        text-align: right;\n",
       "    }\n",
       "</style>\n",
       "<table border=\"1\" class=\"dataframe\">\n",
       "  <thead>\n",
       "    <tr style=\"text-align: right;\">\n",
       "      <th></th>\n",
       "      <th>Title</th>\n",
       "      <th>Year</th>\n",
       "      <th>Summary</th>\n",
       "      <th>Short Summary</th>\n",
       "      <th>Genres</th>\n",
       "      <th>IMDB ID</th>\n",
       "      <th>Runtime</th>\n",
       "      <th>YouTube Trailer</th>\n",
       "      <th>Rating</th>\n",
       "      <th>Movie Poster</th>\n",
       "      <th>Director</th>\n",
       "      <th>Writers</th>\n",
       "      <th>Cast</th>\n",
       "    </tr>\n",
       "  </thead>\n",
       "  <tbody>\n",
       "    <tr>\n",
       "      <th>0</th>\n",
       "      <td>Patton Oswalt: Annihilation</td>\n",
       "      <td>2017</td>\n",
       "      <td>Patton Oswald, despite a personal tragedy, pro...</td>\n",
       "      <td>Patton Oswalt, despite a personal tragedy, pro...</td>\n",
       "      <td>Uncategorized</td>\n",
       "      <td>tt7026230</td>\n",
       "      <td>66</td>\n",
       "      <td>4hZi5QaMBFc</td>\n",
       "      <td>7.4</td>\n",
       "      <td>https://hydramovies.com/wp-content/uploads/201...</td>\n",
       "      <td>Bobcat Goldthwait</td>\n",
       "      <td>Patton Oswalt</td>\n",
       "      <td>Patton Oswalt</td>\n",
       "    </tr>\n",
       "    <tr>\n",
       "      <th>1</th>\n",
       "      <td>New York Doll</td>\n",
       "      <td>2005</td>\n",
       "      <td>A recovering alcoholic and recently converted ...</td>\n",
       "      <td>A recovering alcoholic and recently converted ...</td>\n",
       "      <td>Documentary|Music</td>\n",
       "      <td>tt0436629</td>\n",
       "      <td>75</td>\n",
       "      <td>jwD04NsnLLg</td>\n",
       "      <td>7.9</td>\n",
       "      <td>https://hydramovies.com/wp-content/uploads/201...</td>\n",
       "      <td>Greg Whiteley</td>\n",
       "      <td>Arthur Kane</td>\n",
       "      <td>Sylvain Sylvain</td>\n",
       "    </tr>\n",
       "    <tr>\n",
       "      <th>2</th>\n",
       "      <td>Mickey's Magical Christmas: Snowed in at the H...</td>\n",
       "      <td>2001</td>\n",
       "      <td>After everyone is snowed in at the House of Mo...</td>\n",
       "      <td>Mickey and all his friends hold their own Chri...</td>\n",
       "      <td>Adventure|Animation|Comedy|Family|Fantasy</td>\n",
       "      <td>tt0300195</td>\n",
       "      <td>65</td>\n",
       "      <td>uCKwHHftrU4</td>\n",
       "      <td>6.8</td>\n",
       "      <td>https://hydramovies.com/wp-content/uploads/201...</td>\n",
       "      <td>Tony Craig</td>\n",
       "      <td>Thomas Hart</td>\n",
       "      <td>Carlos Alazraqui|Wayne Allwine</td>\n",
       "    </tr>\n",
       "    <tr>\n",
       "      <th>3</th>\n",
       "      <td>Mickey's House of Villains</td>\n",
       "      <td>2001</td>\n",
       "      <td>The villains from the popular animated Disney ...</td>\n",
       "      <td>The villains from the popular animated Disney ...</td>\n",
       "      <td>Animation|Comedy|Family|Fantasy|Horror</td>\n",
       "      <td>tt0329374</td>\n",
       "      <td>0</td>\n",
       "      <td>JA03ciYt-Ek</td>\n",
       "      <td>6.6</td>\n",
       "      <td>https://hydramovies.com/wp-content/uploads/201...</td>\n",
       "      <td>Jamie Mitchell</td>\n",
       "      <td>Thomas Hart</td>\n",
       "      <td>Tony Anselmo|Wayne Allwine</td>\n",
       "    </tr>\n",
       "    <tr>\n",
       "      <th>4</th>\n",
       "      <td>And Then I Go</td>\n",
       "      <td>2017</td>\n",
       "      <td>In the cruel world of junior high, Edwin suffe...</td>\n",
       "      <td>In the cruel world of junior high, Edwin suffe...</td>\n",
       "      <td>Drama</td>\n",
       "      <td>tt2018111</td>\n",
       "      <td>99</td>\n",
       "      <td>8CdIiD6-iF0</td>\n",
       "      <td>7.6</td>\n",
       "      <td>https://hydramovies.com/wp-content/uploads/201...</td>\n",
       "      <td>Vincent Grashaw</td>\n",
       "      <td>Brett Haley</td>\n",
       "      <td>Arman Darbo|Sawyer Barth</td>\n",
       "    </tr>\n",
       "  </tbody>\n",
       "</table>\n",
       "</div>"
      ],
      "text/plain": [
       "                                               Title  Year  \\\n",
       "0                        Patton Oswalt: Annihilation  2017   \n",
       "1                                      New York Doll  2005   \n",
       "2  Mickey's Magical Christmas: Snowed in at the H...  2001   \n",
       "3                         Mickey's House of Villains  2001   \n",
       "4                                      And Then I Go  2017   \n",
       "\n",
       "                                             Summary  \\\n",
       "0  Patton Oswald, despite a personal tragedy, pro...   \n",
       "1  A recovering alcoholic and recently converted ...   \n",
       "2  After everyone is snowed in at the House of Mo...   \n",
       "3  The villains from the popular animated Disney ...   \n",
       "4  In the cruel world of junior high, Edwin suffe...   \n",
       "\n",
       "                                       Short Summary  \\\n",
       "0  Patton Oswalt, despite a personal tragedy, pro...   \n",
       "1  A recovering alcoholic and recently converted ...   \n",
       "2  Mickey and all his friends hold their own Chri...   \n",
       "3  The villains from the popular animated Disney ...   \n",
       "4  In the cruel world of junior high, Edwin suffe...   \n",
       "\n",
       "                                      Genres    IMDB ID  Runtime  \\\n",
       "0                              Uncategorized  tt7026230       66   \n",
       "1                          Documentary|Music  tt0436629       75   \n",
       "2  Adventure|Animation|Comedy|Family|Fantasy  tt0300195       65   \n",
       "3     Animation|Comedy|Family|Fantasy|Horror  tt0329374        0   \n",
       "4                                      Drama  tt2018111       99   \n",
       "\n",
       "  YouTube Trailer  Rating                                       Movie Poster  \\\n",
       "0     4hZi5QaMBFc     7.4  https://hydramovies.com/wp-content/uploads/201...   \n",
       "1     jwD04NsnLLg     7.9  https://hydramovies.com/wp-content/uploads/201...   \n",
       "2     uCKwHHftrU4     6.8  https://hydramovies.com/wp-content/uploads/201...   \n",
       "3     JA03ciYt-Ek     6.6  https://hydramovies.com/wp-content/uploads/201...   \n",
       "4     8CdIiD6-iF0     7.6  https://hydramovies.com/wp-content/uploads/201...   \n",
       "\n",
       "            Director        Writers                            Cast  \n",
       "0  Bobcat Goldthwait  Patton Oswalt                   Patton Oswalt  \n",
       "1      Greg Whiteley    Arthur Kane                 Sylvain Sylvain  \n",
       "2         Tony Craig    Thomas Hart  Carlos Alazraqui|Wayne Allwine  \n",
       "3     Jamie Mitchell    Thomas Hart      Tony Anselmo|Wayne Allwine  \n",
       "4    Vincent Grashaw    Brett Haley        Arman Darbo|Sawyer Barth  "
      ]
     },
     "execution_count": 3,
     "metadata": {},
     "output_type": "execute_result"
    }
   ],
   "source": [
    "df.head()"
   ]
  },
  {
   "cell_type": "code",
   "execution_count": 4,
   "metadata": {},
   "outputs": [
    {
     "name": "stdout",
     "output_type": "stream",
     "text": [
      "Index(['Title', 'Year', 'Summary', 'Short Summary', 'Genres', 'IMDB ID',\n",
      "       'Runtime', 'YouTube Trailer', 'Rating', 'Movie Poster', 'Director',\n",
      "       'Writers', 'Cast'],\n",
      "      dtype='object')\n",
      "(3940, 13)\n"
     ]
    }
   ],
   "source": [
    "print(df.columns)\n",
    "print(df.shape)"
   ]
  },
  {
   "cell_type": "code",
   "execution_count": 5,
   "metadata": {},
   "outputs": [
    {
     "name": "stdout",
     "output_type": "stream",
     "text": [
      "<class 'pandas.core.frame.DataFrame'>\n",
      "RangeIndex: 3940 entries, 0 to 3939\n",
      "Data columns (total 13 columns):\n",
      " #   Column           Non-Null Count  Dtype  \n",
      "---  ------           --------------  -----  \n",
      " 0   Title            3940 non-null   object \n",
      " 1   Year             3940 non-null   int64  \n",
      " 2   Summary          3940 non-null   object \n",
      " 3   Short Summary    3939 non-null   object \n",
      " 4   Genres           3940 non-null   object \n",
      " 5   IMDB ID          3940 non-null   object \n",
      " 6   Runtime          3940 non-null   int64  \n",
      " 7   YouTube Trailer  3893 non-null   object \n",
      " 8   Rating           3940 non-null   float64\n",
      " 9   Movie Poster     3940 non-null   object \n",
      " 10  Director         3940 non-null   object \n",
      " 11  Writers          3922 non-null   object \n",
      " 12  Cast             3916 non-null   object \n",
      "dtypes: float64(1), int64(2), object(10)\n",
      "memory usage: 246.3+ KB\n",
      "None\n"
     ]
    }
   ],
   "source": [
    "df.Summary.fillna('None',inplace=True)\n",
    "print(df.info())"
   ]
  },
  {
   "cell_type": "code",
   "execution_count": 6,
   "metadata": {},
   "outputs": [
    {
     "name": "stdout",
     "output_type": "stream",
     "text": [
      "<class 'str'>\n",
      "['Documentary', 'Music']\n"
     ]
    }
   ],
   "source": [
    "Gen = df.Genres\n",
    "print(type(Gen[1]))\n",
    "print(Gen[1].split('|'))\n",
    "Gen_splited =[]\n",
    "\n",
    "for i in Gen:\n",
    "    x = i.split('|')\n",
    "    Gen_splited.append(x)"
   ]
  },
  {
   "cell_type": "code",
   "execution_count": 7,
   "metadata": {},
   "outputs": [
    {
     "data": {
      "text/plain": [
       "[['Uncategorized'],\n",
       " ['Documentary', 'Music'],\n",
       " ['Adventure', 'Animation', 'Comedy', 'Family', 'Fantasy'],\n",
       " ['Animation', 'Comedy', 'Family', 'Fantasy', 'Horror'],\n",
       " ['Drama'],\n",
       " ['Animation', 'Comedy', 'Family', 'Sport'],\n",
       " ['Adventure', 'Animation', 'Comedy', 'Family', 'Fantasy'],\n",
       " ['Uncategorized'],\n",
       " ['Uncategorized'],\n",
       " ['Drama']]"
      ]
     },
     "execution_count": 7,
     "metadata": {},
     "output_type": "execute_result"
    }
   ],
   "source": [
    "Gen_splited[:10]"
   ]
  },
  {
   "cell_type": "code",
   "execution_count": 8,
   "metadata": {},
   "outputs": [],
   "source": [
    "x=[]\n",
    "for i in Gen_splited:\n",
    "    x= x+i\n",
    "x = set(x)"
   ]
  },
  {
   "cell_type": "code",
   "execution_count": 9,
   "metadata": {},
   "outputs": [],
   "source": [
    "Anima = []\n",
    "for i in Gen_splited:\n",
    "    for j in i:\n",
    "        x=0\n",
    "        if j == \"Animation\":\n",
    "            x=1\n",
    "    Anima.append(x)\n",
    "    #print(f\"{j} : {x}\")\n",
    "##########3\n",
    "Action = []\n",
    "for i in Gen_splited:\n",
    "    for j in i:\n",
    "        x=0\n",
    "        if j == \"Action\":\n",
    "            x=1\n",
    "    Action.append(x)\n",
    "Adv=[]\n",
    "for i in Gen_splited:\n",
    "    for j in i:\n",
    "        x=0\n",
    "        if j == \"Adventure\":\n",
    "            x=1\n",
    "    Adv.append(x)\n",
    "Bio=[]\n",
    "for i in Gen_splited:\n",
    "    for j in i:\n",
    "        x=0\n",
    "        if j == \"Biography\":\n",
    "            x=1\n",
    "    Bio.append(x)\n",
    "Com=[]\n",
    "for i in Gen_splited:\n",
    "    for j in i:\n",
    "        x=0\n",
    "        if j == \"Comedy\":\n",
    "            x=1\n",
    "    Com.append(x)\n",
    "Cri=[]\n",
    "for i in Gen_splited:\n",
    "    for j in i:\n",
    "        x=0\n",
    "        if j == \"Crime\":\n",
    "            x=1\n",
    "    Cri.append(x)\n",
    "Doc=[]\n",
    "for i in Gen_splited:\n",
    "    for j in i:\n",
    "        x=0\n",
    "        if j == \"Documentary\":\n",
    "            x=1\n",
    "    Doc.append(x)\n",
    "Dra=[]\n",
    "for i in Gen_splited:\n",
    "    for j in i:\n",
    "        x=0\n",
    "        if j == \"Drama\":\n",
    "            x=1\n",
    "    Dra.append(x)\n",
    "Fam=[]\n",
    "for i in Gen_splited:\n",
    "    for j in i:\n",
    "        x=0\n",
    "        if j == \"Family\":\n",
    "            x=1\n",
    "    Fam.append(x)\n",
    "Fan=[]\n",
    "for i in Gen_splited:\n",
    "    for j in i:\n",
    "        x=0\n",
    "        if j == \"Fantasy\":\n",
    "            x=1\n",
    "    Fan.append(x)\n",
    "His=[]\n",
    "for i in Gen_splited:\n",
    "    for j in i:\n",
    "        x=0\n",
    "        if j == \"History\":\n",
    "            x=1\n",
    "    His.append(x)\n",
    "Hor=[]\n",
    "for i in Gen_splited:\n",
    "    for j in i:\n",
    "        x=0\n",
    "        if j == \"Horror\":\n",
    "            x=1\n",
    "    Hor.append(x)\n",
    "Ms=[]\n",
    "for i in Gen_splited:\n",
    "    for j in i:\n",
    "        x=0\n",
    "        if j == \"Music\":\n",
    "            x=1\n",
    "    Ms.append(x)\n",
    "Msc=[]\n",
    "for i in Gen_splited:\n",
    "    for j in i:\n",
    "        x=0\n",
    "        if j == \"Musical\":\n",
    "            x=1\n",
    "    Msc.append(x)\n",
    "Mys=[]\n",
    "for i in Gen_splited:\n",
    "    for j in i:\n",
    "        x=0\n",
    "        if j == \"Mystery\":\n",
    "            x=1\n",
    "    Mys.append(x)\n",
    "New=[]\n",
    "for i in Gen_splited:\n",
    "    for j in i:\n",
    "        x=0\n",
    "        if j == \"News\":\n",
    "            x=1\n",
    "    New.append(x)\n",
    "Rea=[]\n",
    "for i in Gen_splited:\n",
    "    for j in i:\n",
    "        x=0\n",
    "        if j == \"Reality-TV\":\n",
    "            x=1\n",
    "    Rea.append(x)\n",
    "Rom=[]\n",
    "for i in Gen_splited:\n",
    "    for j in i:\n",
    "        x=0\n",
    "        if j == \"Romance\":\n",
    "            x=1\n",
    "    Rom.append(x)\n",
    "Sci=[]\n",
    "for i in Gen_splited:\n",
    "    for j in i:\n",
    "        x=0\n",
    "        if j == \"Sci-Fi\":\n",
    "            x=1\n",
    "    Sci.append(x)\n",
    "Spo=[]\n",
    "for i in Gen_splited:\n",
    "    for j in i:\n",
    "        x=0\n",
    "        if j == \"Sport\":\n",
    "            x=1\n",
    "    Spo.append(x)\n",
    "Thr=[]\n",
    "for i in Gen_splited:\n",
    "    for j in i:\n",
    "        x=0\n",
    "        if j == \"Thriller\":\n",
    "            x=1\n",
    "    Thr.append(x)\n",
    "Unc=[]\n",
    "for i in Gen_splited:\n",
    "    for j in i:\n",
    "        x=0\n",
    "        if j == \"Uncategorized\":\n",
    "            x=1\n",
    "    Unc.append(x)\n",
    "War=[]\n",
    "for i in Gen_splited:\n",
    "    for j in i:\n",
    "        x=0\n",
    "        if j == \"War\":\n",
    "            x=1\n",
    "    War.append(x)\n",
    "Wes=[]\n",
    "for i in Gen_splited:\n",
    "    for j in i:\n",
    "        x=0\n",
    "        if j == \"Western\":\n",
    "            x=1\n",
    "    Wes.append(x)\n"
   ]
  },
  {
   "cell_type": "code",
   "execution_count": 10,
   "metadata": {},
   "outputs": [],
   "source": [
    "df2 = pd.DataFrame(Action,columns=['Action'])\n",
    "df2.reset_index\n",
    "df3 = pd.DataFrame(Adv,columns=['Advanture'])\n",
    "df4 = pd.DataFrame(Anima,columns=['Animation'])\n",
    "df5 = pd.DataFrame(Bio,columns=['Biography'])\n",
    "df6 = pd.DataFrame(Com,columns=['Comedy'])\n",
    "df7 = pd.DataFrame(Cri,columns=['Crime'])\n",
    "df8 = pd.DataFrame(Dra,columns=['Drama'])\n",
    "df9 = pd.DataFrame(Doc,columns=['Documentary'])\n",
    "df10 = pd.DataFrame(Fam,columns=['Family'])\n",
    "df11 = pd.DataFrame(Fan,columns=['Fantasy'])\n",
    "df12 = pd.DataFrame(His,columns=['History'])\n",
    "df13 = pd.DataFrame(Hor,columns=['Horror'])\n",
    "df14 = pd.DataFrame(Ms,columns=['Music'])\n",
    "df15 = pd.DataFrame(Msc,columns=['Musical'])\n",
    "df16 = pd.DataFrame(Mys,columns=['Mystery'])\n",
    "df17 = pd.DataFrame(New,columns=['News'])\n",
    "df18 = pd.DataFrame(Rea,columns=['Reality-Show'])\n",
    "df19 = pd.DataFrame(Rom,columns=['Romance'])\n",
    "df20 = pd.DataFrame(Sci,columns=['Sci-fi'])\n",
    "df21 = pd.DataFrame(Spo,columns=['Sport'])\n",
    "df22 = pd.DataFrame(Thr,columns=['Thriller'])\n",
    "df23 = pd.DataFrame(Unc,columns=['Uncategorized'])\n",
    "df24 = pd.DataFrame(War,columns=['War'])\n",
    "df25 = pd.DataFrame(Wes,columns=['Western'])\n",
    "\n"
   ]
  },
  {
   "cell_type": "code",
   "execution_count": 11,
   "metadata": {},
   "outputs": [],
   "source": [
    "df2['Adventure'] = df3\n",
    "df2['Animation'] = df4\n",
    "df2['Biography'] = df5\n",
    "df2['Comedy'] = df6\n",
    "df2['Crime'] = df7\n",
    "df2['Drama'] = df8\n",
    "df2['Documentary'] = df9\n",
    "df2['Family'] = df10\n",
    "df2['Fantasy'] = df11\n",
    "df2['History'] = df12\n",
    "df2['Horror'] = df13\n",
    "df2['Music'] = df14\n",
    "df2['Musical'] = df15\n",
    "df2['Mystery'] = df16\n",
    "df2['News'] = df17\n",
    "df2['Reality-Show'] = df18\n",
    "df2['Romance'] = df19\n",
    "df2['Sci-fi'] = df20\n",
    "df2['Sport'] = df21\n",
    "df2['Thriller'] = df22\n",
    "df2['Uncategorized'] = df23\n",
    "df2['War'] = df24\n",
    "df2['Western'] = df25\n"
   ]
  },
  {
   "cell_type": "code",
   "execution_count": 12,
   "metadata": {},
   "outputs": [
    {
     "data": {
      "text/html": [
       "<div>\n",
       "<style scoped>\n",
       "    .dataframe tbody tr th:only-of-type {\n",
       "        vertical-align: middle;\n",
       "    }\n",
       "\n",
       "    .dataframe tbody tr th {\n",
       "        vertical-align: top;\n",
       "    }\n",
       "\n",
       "    .dataframe thead th {\n",
       "        text-align: right;\n",
       "    }\n",
       "</style>\n",
       "<table border=\"1\" class=\"dataframe\">\n",
       "  <thead>\n",
       "    <tr style=\"text-align: right;\">\n",
       "      <th></th>\n",
       "      <th>Action</th>\n",
       "      <th>Adventure</th>\n",
       "      <th>Animation</th>\n",
       "      <th>Biography</th>\n",
       "      <th>Comedy</th>\n",
       "      <th>Crime</th>\n",
       "      <th>Drama</th>\n",
       "      <th>Documentary</th>\n",
       "      <th>Family</th>\n",
       "      <th>Fantasy</th>\n",
       "      <th>...</th>\n",
       "      <th>Mystery</th>\n",
       "      <th>News</th>\n",
       "      <th>Reality-Show</th>\n",
       "      <th>Romance</th>\n",
       "      <th>Sci-fi</th>\n",
       "      <th>Sport</th>\n",
       "      <th>Thriller</th>\n",
       "      <th>Uncategorized</th>\n",
       "      <th>War</th>\n",
       "      <th>Western</th>\n",
       "    </tr>\n",
       "  </thead>\n",
       "  <tbody>\n",
       "    <tr>\n",
       "      <th>0</th>\n",
       "      <td>0</td>\n",
       "      <td>0</td>\n",
       "      <td>0</td>\n",
       "      <td>0</td>\n",
       "      <td>0</td>\n",
       "      <td>0</td>\n",
       "      <td>0</td>\n",
       "      <td>0</td>\n",
       "      <td>0</td>\n",
       "      <td>0</td>\n",
       "      <td>...</td>\n",
       "      <td>0</td>\n",
       "      <td>0</td>\n",
       "      <td>0</td>\n",
       "      <td>0</td>\n",
       "      <td>0</td>\n",
       "      <td>0</td>\n",
       "      <td>0</td>\n",
       "      <td>1</td>\n",
       "      <td>0</td>\n",
       "      <td>0</td>\n",
       "    </tr>\n",
       "    <tr>\n",
       "      <th>1</th>\n",
       "      <td>0</td>\n",
       "      <td>0</td>\n",
       "      <td>0</td>\n",
       "      <td>0</td>\n",
       "      <td>0</td>\n",
       "      <td>0</td>\n",
       "      <td>0</td>\n",
       "      <td>0</td>\n",
       "      <td>0</td>\n",
       "      <td>0</td>\n",
       "      <td>...</td>\n",
       "      <td>0</td>\n",
       "      <td>0</td>\n",
       "      <td>0</td>\n",
       "      <td>0</td>\n",
       "      <td>0</td>\n",
       "      <td>0</td>\n",
       "      <td>0</td>\n",
       "      <td>0</td>\n",
       "      <td>0</td>\n",
       "      <td>0</td>\n",
       "    </tr>\n",
       "    <tr>\n",
       "      <th>2</th>\n",
       "      <td>0</td>\n",
       "      <td>0</td>\n",
       "      <td>0</td>\n",
       "      <td>0</td>\n",
       "      <td>0</td>\n",
       "      <td>0</td>\n",
       "      <td>0</td>\n",
       "      <td>0</td>\n",
       "      <td>0</td>\n",
       "      <td>1</td>\n",
       "      <td>...</td>\n",
       "      <td>0</td>\n",
       "      <td>0</td>\n",
       "      <td>0</td>\n",
       "      <td>0</td>\n",
       "      <td>0</td>\n",
       "      <td>0</td>\n",
       "      <td>0</td>\n",
       "      <td>0</td>\n",
       "      <td>0</td>\n",
       "      <td>0</td>\n",
       "    </tr>\n",
       "    <tr>\n",
       "      <th>3</th>\n",
       "      <td>0</td>\n",
       "      <td>0</td>\n",
       "      <td>0</td>\n",
       "      <td>0</td>\n",
       "      <td>0</td>\n",
       "      <td>0</td>\n",
       "      <td>0</td>\n",
       "      <td>0</td>\n",
       "      <td>0</td>\n",
       "      <td>0</td>\n",
       "      <td>...</td>\n",
       "      <td>0</td>\n",
       "      <td>0</td>\n",
       "      <td>0</td>\n",
       "      <td>0</td>\n",
       "      <td>0</td>\n",
       "      <td>0</td>\n",
       "      <td>0</td>\n",
       "      <td>0</td>\n",
       "      <td>0</td>\n",
       "      <td>0</td>\n",
       "    </tr>\n",
       "    <tr>\n",
       "      <th>4</th>\n",
       "      <td>0</td>\n",
       "      <td>0</td>\n",
       "      <td>0</td>\n",
       "      <td>0</td>\n",
       "      <td>0</td>\n",
       "      <td>0</td>\n",
       "      <td>1</td>\n",
       "      <td>0</td>\n",
       "      <td>0</td>\n",
       "      <td>0</td>\n",
       "      <td>...</td>\n",
       "      <td>0</td>\n",
       "      <td>0</td>\n",
       "      <td>0</td>\n",
       "      <td>0</td>\n",
       "      <td>0</td>\n",
       "      <td>0</td>\n",
       "      <td>0</td>\n",
       "      <td>0</td>\n",
       "      <td>0</td>\n",
       "      <td>0</td>\n",
       "    </tr>\n",
       "  </tbody>\n",
       "</table>\n",
       "<p>5 rows × 24 columns</p>\n",
       "</div>"
      ],
      "text/plain": [
       "   Action  Adventure  Animation  Biography  Comedy  Crime  Drama  Documentary  \\\n",
       "0       0          0          0          0       0      0      0            0   \n",
       "1       0          0          0          0       0      0      0            0   \n",
       "2       0          0          0          0       0      0      0            0   \n",
       "3       0          0          0          0       0      0      0            0   \n",
       "4       0          0          0          0       0      0      1            0   \n",
       "\n",
       "   Family  Fantasy  ...  Mystery  News  Reality-Show  Romance  Sci-fi  Sport  \\\n",
       "0       0        0  ...        0     0             0        0       0      0   \n",
       "1       0        0  ...        0     0             0        0       0      0   \n",
       "2       0        1  ...        0     0             0        0       0      0   \n",
       "3       0        0  ...        0     0             0        0       0      0   \n",
       "4       0        0  ...        0     0             0        0       0      0   \n",
       "\n",
       "   Thriller  Uncategorized  War  Western  \n",
       "0         0              1    0        0  \n",
       "1         0              0    0        0  \n",
       "2         0              0    0        0  \n",
       "3         0              0    0        0  \n",
       "4         0              0    0        0  \n",
       "\n",
       "[5 rows x 24 columns]"
      ]
     },
     "execution_count": 12,
     "metadata": {},
     "output_type": "execute_result"
    }
   ],
   "source": [
    "df2.head()"
   ]
  },
  {
   "cell_type": "code",
   "execution_count": 13,
   "metadata": {},
   "outputs": [],
   "source": [
    "from nltk.corpus import stopwords\n",
    "from nltk.tokenize import word_tokenize\n",
    "#nltk.download('punkt')"
   ]
  },
  {
   "cell_type": "code",
   "execution_count": 14,
   "metadata": {},
   "outputs": [],
   "source": [
    "Sum = df.Summary"
   ]
  },
  {
   "cell_type": "code",
   "execution_count": 15,
   "metadata": {},
   "outputs": [
    {
     "data": {
      "text/plain": [
       "'A recovering alcoholic and recently converted Mormon, Arthur \"Killer\" Kane, of the rock band The New York Dolls, is given a chance at reuniting with his band after 30 years.'"
      ]
     },
     "execution_count": 15,
     "metadata": {},
     "output_type": "execute_result"
    }
   ],
   "source": [
    "Sum[1]"
   ]
  },
  {
   "cell_type": "code",
   "execution_count": 16,
   "metadata": {},
   "outputs": [],
   "source": [
    "tokens = word_tokenize(Sum[1])"
   ]
  },
  {
   "cell_type": "code",
   "execution_count": 17,
   "metadata": {},
   "outputs": [
    {
     "name": "stdout",
     "output_type": "stream",
     "text": [
      "['A', 'recovering', 'alcoholic', 'and', 'recently', 'converted', 'Mormon', ',', 'Arthur', '``', 'Killer', \"''\", 'Kane', ',', 'of', 'the', 'rock', 'band', 'The', 'New', 'York', 'Dolls', ',', 'is', 'given', 'a', 'chance', 'at', 'reuniting', 'with', 'his', 'band', 'after', '30', 'years', '.']\n"
     ]
    }
   ],
   "source": [
    "print(tokens)"
   ]
  },
  {
   "cell_type": "code",
   "execution_count": 18,
   "metadata": {},
   "outputs": [],
   "source": [
    "import string\n",
    "stop = stopwords.words('english')#+ list(string.punctuation)\n",
    "#nltk.download('stopwords')\n",
    "from nltk.stem import WordNetLemmatizer\n",
    "from nltk.stem.porter import PorterStemmer\n",
    "porter = PorterStemmer()\n",
    "lemma = WordNetLemmatizer()"
   ]
  },
  {
   "cell_type": "code",
   "execution_count": 19,
   "metadata": {},
   "outputs": [],
   "source": [
    "def rev_stop(text):\n",
    "    new_text=[]\n",
    "    for i in text: \n",
    "        if i.lower() not in stop:\n",
    "            i = porter.stem(i)\n",
    "            i = lemma.lemmatize(i)\n",
    "            \n",
    "            new_text.append(i)\n",
    "    return new_text"
   ]
  },
  {
   "cell_type": "code",
   "execution_count": 20,
   "metadata": {},
   "outputs": [],
   "source": [
    "#rev_stop(tokens)\n",
    "import nltk\n",
    "#nltk.download('wordnet')\n",
    "Sum_tokenized=[]\n",
    "for i in Sum:\n",
    "    x = rev_stop(word_tokenize(i))\n",
    "    Sum_tokenized.append(x)"
   ]
  },
  {
   "cell_type": "code",
   "execution_count": 21,
   "metadata": {
    "scrolled": true
   },
   "outputs": [],
   "source": [
    "#Sum_tokenized"
   ]
  },
  {
   "cell_type": "code",
   "execution_count": 22,
   "metadata": {},
   "outputs": [],
   "source": [
    "from sklearn.feature_extraction.text import TfidfVectorizer"
   ]
  },
  {
   "cell_type": "code",
   "execution_count": 23,
   "metadata": {},
   "outputs": [],
   "source": [
    "vectorizer = TfidfVectorizer()\n",
    "Sum_all_tokenized = [\" \". join(x) for x in Sum_tokenized]\n",
    "X = vectorizer.fit_transform(Sum_all_tokenized)\n",
    "#print(vectorizer.get_feature_names())"
   ]
  },
  {
   "cell_type": "code",
   "execution_count": 24,
   "metadata": {
    "scrolled": false
   },
   "outputs": [],
   "source": [
    "#print(X.shape)\n",
    "#print(vectorizer.get_feature_names())"
   ]
  },
  {
   "cell_type": "code",
   "execution_count": 25,
   "metadata": {},
   "outputs": [],
   "source": [
    "#dense = X.todense()"
   ]
  },
  {
   "cell_type": "code",
   "execution_count": 53,
   "metadata": {},
   "outputs": [],
   "source": [
    "from sklearn.metrics.pairwise import euclidean_distances\n",
    "\n",
    "def recommend(text):\n",
    "    text = str(text)\n",
    "    Sum =df.Summary\n",
    "    Sum.loc[3940]= text \n",
    "    Title = df.Title\n",
    "    Title.loc[3940] = text \n",
    "    \n",
    "    textz = pd.Series([text],index =['3940'])\n",
    "    Sum.append(textz)\n",
    "    Sum_tokenized=[]\n",
    "    for i in Sum:\n",
    "        x = rev_stop(word_tokenize(i))\n",
    "        Sum_tokenized.append(x)\n",
    "    basket=[]\n",
    "    vectorizer = TfidfVectorizer()\n",
    "    Sum_all_tokenized = [\" \". join(x) for x in Sum_tokenized]\n",
    "    X = vectorizer.fit_transform(Sum_all_tokenized)\n",
    "    dense = X.toarray()\n",
    "    for i in dense[:-1]:\n",
    "        basket.append(euclidean_distances([dense[-1]],[i]))\n",
    "    z= min(basket)\n",
    "    return z,Title[basket.index(z)],Sum[basket.index(z)]"
   ]
  },
  {
   "cell_type": "code",
   "execution_count": 58,
   "metadata": {},
   "outputs": [
    {
     "name": "stdout",
     "output_type": "stream",
     "text": [
      "(array([[1.17577967]]), 'Hana', \"In 1702, set against the backdrop of a long-delayed and insatiable revenge, a reserved samurai, Aoki Sozaemon, leaves his hometown in Matsumoto to come to bustling Edo in search of his father's killer. Unaccomplished as a swordsman, with his funds quickly drying up, Sozaemon must honour his clan's demand to avenge a disgraceful death, however, when he finally finds his target, he will have to make a difficult decision before a crushing dilemma. Is the way of the samurai stronger than the way of the heart?\")\n",
      "(array([[1.13984816]]), 'The Fast and the Furious: Tokyo Drift', 'An American teenager named Sean Boswell is a loner in school, however he challenges his rival for an illegal street racing, and he totals his car in the end of the race. To avoid time in prison he is sent to Tokyo to live with his father who is in the military. As soon as he arrives he discovers a new, fun but dangerous way of street racing in the underworld of the streets of Tokyo, Japan.')\n"
     ]
    }
   ],
   "source": [
    "# I don't exactly know the problem but without[] the function will just ask for 2D array so this is the way to solve it\n",
    "\n",
    "\n",
    "# this will give you the recommended movie based on what you type\n",
    "\n",
    "print(recommend(\" Samurai \"))\n",
    "print(recommend(\" Car racing\"))"
   ]
  },
  {
   "cell_type": "code",
   "execution_count": null,
   "metadata": {},
   "outputs": [],
   "source": []
  },
  {
   "cell_type": "code",
   "execution_count": 29,
   "metadata": {},
   "outputs": [],
   "source": []
  },
  {
   "cell_type": "code",
   "execution_count": 63,
   "metadata": {},
   "outputs": [
    {
     "name": "stdout",
     "output_type": "stream",
     "text": [
      "(array([[1.13984816]]), 'The Fast and the Furious: Tokyo Drift', 'An American teenager named Sean Boswell is a loner in school, however he challenges his rival for an illegal street racing, and he totals his car in the end of the race. To avoid time in prison he is sent to Tokyo to live with his father who is in the military. As soon as he arrives he discovers a new, fun but dangerous way of street racing in the underworld of the streets of Tokyo, Japan.')\n"
     ]
    }
   ],
   "source": [
    "# this will give you the recommended movie based on what you type\n",
    "\n",
    "print(recommend(\"Car racing\"))"
   ]
  },
  {
   "cell_type": "code",
   "execution_count": null,
   "metadata": {},
   "outputs": [],
   "source": [
    "\n"
   ]
  },
  {
   "cell_type": "code",
   "execution_count": null,
   "metadata": {},
   "outputs": [],
   "source": []
  },
  {
   "cell_type": "code",
   "execution_count": null,
   "metadata": {},
   "outputs": [],
   "source": []
  },
  {
   "cell_type": "code",
   "execution_count": null,
   "metadata": {},
   "outputs": [],
   "source": []
  },
  {
   "cell_type": "code",
   "execution_count": null,
   "metadata": {},
   "outputs": [],
   "source": []
  },
  {
   "cell_type": "code",
   "execution_count": null,
   "metadata": {},
   "outputs": [],
   "source": []
  },
  {
   "cell_type": "code",
   "execution_count": null,
   "metadata": {},
   "outputs": [],
   "source": []
  },
  {
   "cell_type": "code",
   "execution_count": null,
   "metadata": {},
   "outputs": [],
   "source": []
  }
 ],
 "metadata": {
  "kernelspec": {
   "display_name": "Python 3",
   "language": "python",
   "name": "python3"
  },
  "language_info": {
   "codemirror_mode": {
    "name": "ipython",
    "version": 3
   },
   "file_extension": ".py",
   "mimetype": "text/x-python",
   "name": "python",
   "nbconvert_exporter": "python",
   "pygments_lexer": "ipython3",
   "version": "3.8.4"
  }
 },
 "nbformat": 4,
 "nbformat_minor": 4
}
